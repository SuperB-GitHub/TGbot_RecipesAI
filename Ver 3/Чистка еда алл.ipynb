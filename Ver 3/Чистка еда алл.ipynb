{
 "cells": [
  {
   "cell_type": "code",
   "execution_count": 1,
   "id": "0c1c2763",
   "metadata": {},
   "outputs": [
    {
     "name": "stdout",
     "output_type": "stream",
     "text": [
      "Очищенный CSV сохранён. Удалены столбцы: ['id', 'image_url', 'list_bzu', 'recept_link', 'recipes_keywords']\n"
     ]
    }
   ],
   "source": [
    "import pandas as pd\n",
    "\n",
    "# Загружаем CSV файл\n",
    "df = pd.read_csv('eda_all_recipes.csv')\n",
    "\n",
    "# Столбцы, которые нужно удалить\n",
    "columns_to_remove = ['id', 'image_url', 'list_bzu', 'recept_link', 'recipes_keywords']\n",
    "\n",
    "# Удаляем только те столбцы, которые существуют в DataFrame\n",
    "existing_columns = [col for col in columns_to_remove if col in df.columns]\n",
    "\n",
    "# Удаление столбцов\n",
    "df_cleaned = df.drop(columns=existing_columns)\n",
    "\n",
    "# Сохраняем очищенный CSV\n",
    "df_cleaned.to_csv('cleaned_eda_all_recipes.csv', index=False)\n",
    "\n",
    "print(\"Очищенный CSV сохранён. Удалены столбцы:\", existing_columns)"
   ]
  }
 ],
 "metadata": {
  "kernelspec": {
   "display_name": "Python 3",
   "language": "python",
   "name": "python3"
  },
  "language_info": {
   "codemirror_mode": {
    "name": "ipython",
    "version": 3
   },
   "file_extension": ".py",
   "mimetype": "text/x-python",
   "name": "python",
   "nbconvert_exporter": "python",
   "pygments_lexer": "ipython3",
   "version": "3.12.4"
  }
 },
 "nbformat": 4,
 "nbformat_minor": 5
}
