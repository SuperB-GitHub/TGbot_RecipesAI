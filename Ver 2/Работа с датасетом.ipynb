{
 "cells": [
  {
   "cell_type": "code",
   "execution_count": 2,
   "id": "07c5ac4a",
   "metadata": {},
   "outputs": [],
   "source": [
    "import pandas as pd\n",
    "\n",
    "# Загружаем данные\n",
    "df = pd.read_csv('cleaned_pecipes_all.csv')  # замени на свой путь\n",
    "\n",
    "# Условие: удаляем строки, где любая из этих колонок пустая\n",
    "columns_to_check = ['name', 'ingridients', 'pure_ingridients', 'nor_ingridients']\n",
    "for col in columns_to_check:\n",
    "    df = df[df[col].astype(str) != \"['']\"]  # убираем пустые списки\n",
    "    df = df[df[col].notna()]  # убираем NaN\n",
    "\n",
    "# Если нужно — дополнительно проверить instructions\n",
    "df = df[df['instructions'].astype(str) != \"['']\"]\n",
    "df = df[df['instructions'].notna()]\n",
    "\n",
    "# Сохраняем очищенный датасет\n",
    "df.to_csv('cleaned_recipes.csv', index=False)"
   ]
  },
  {
   "cell_type": "code",
   "execution_count": null,
   "id": "7780d814",
   "metadata": {},
   "outputs": [],
   "source": [
    "import pandas as pd\n",
    "\n",
    "# Загружаем датасет\n",
    "df = pd.read_csv(\"cleaned_recipes_inst.csv\", on_bad_lines='skip')\n",
    "\n",
    "# Удаляем дубликаты по всем колонкам\n",
    "df.drop_duplicates(inplace=True)\n",
    "\n",
    "# Сохраняем обратно в CSV\n",
    "df.to_csv(\"cleaned_recipes_inst_no_duplicates.csv\", index=False)"
   ]
  },
  {
   "cell_type": "code",
   "execution_count": null,
   "id": "3ebbf932",
   "metadata": {},
   "outputs": [],
   "source": [
    "import pandas as pd\n",
    "\n",
    "# Загружаем CSV файл\n",
    "df = pd.read_csv('pecipes_all.csv')\n",
    "\n",
    "# Список столбцов, которые нужно удалить\n",
    "columns_to_remove = [\n",
    "    '0', 'img_url', 'recipe_link',\n",
    "    'splinstr', 'not_ingridients',\n",
    "    'splinctr2', 'spl'\n",
    "]\n",
    "\n",
    "# Оставляем только те столбцы, которые действительно существуют в DataFrame\n",
    "existing_columns = [col for col in columns_to_remove if col in df.columns]\n",
    "\n",
    "# Удаляем столбцы\n",
    "df_cleaned = df.drop(columns=existing_columns)\n",
    "\n",
    "# Сохраняем очищенный CSV\n",
    "df_cleaned.to_csv('cleaned_pecipes_all.csv', index=False)\n",
    "\n",
    "print(\"Очищенный CSV сохранён. Удалены столбцы:\", existing_columns)"
   ]
  }
 ],
 "metadata": {
  "kernelspec": {
   "display_name": "Python 3",
   "language": "python",
   "name": "python3"
  },
  "language_info": {
   "codemirror_mode": {
    "name": "ipython",
    "version": 3
   },
   "file_extension": ".py",
   "mimetype": "text/x-python",
   "name": "python",
   "nbconvert_exporter": "python",
   "pygments_lexer": "ipython3",
   "version": "3.12.4"
  }
 },
 "nbformat": 4,
 "nbformat_minor": 5
}
