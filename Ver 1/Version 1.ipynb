{
 "cells": [
  {
   "cell_type": "code",
   "execution_count": 1,
   "id": "5b238876",
   "metadata": {},
   "outputs": [
    {
     "name": "stderr",
     "output_type": "stream",
     "text": [
      "c:\\Users\\mrcov\\AppData\\Local\\Programs\\Python\\Python312\\Lib\\site-packages\\tqdm\\auto.py:21: TqdmWarning: IProgress not found. Please update jupyter and ipywidgets. See https://ipywidgets.readthedocs.io/en/stable/user_install.html\n",
      "  from .autonotebook import tqdm as notebook_tqdm\n"
     ]
    },
    {
     "name": "stdout",
     "output_type": "stream",
     "text": [
      "📁 Загрузка датасета...\n",
      "🧹 Обработка рецептов...\n",
      "🧠 Загрузка модели...\n",
      "🧬 Кодирование рецептов...\n"
     ]
    },
    {
     "name": "stderr",
     "output_type": "stream",
     "text": [
      "Batches: 100%|██████████| 3/3 [00:01<00:00,  1.75it/s]\n"
     ]
    },
    {
     "name": "stdout",
     "output_type": "stream",
     "text": [
      "\n",
      "🔍 Результаты по запросу: 'Свинина'\n",
      "\n",
      "Пикантный стейк-спрей\n",
      "Ингредиенты: 1/4 стакана сладкого вермута, 1/4 стакана бренди, 1 столовая ложка жидкого дымного ароматизатора, 1/8 стакана Kitchen Bouquet, 1/2 стакана вустерширского соуса, 1 чайная ложка приправы для стейка, 1 чайная ложка приправленной соли, 1/2 чайной ложки молотого черного перца\n",
      "\n",
      "Волшебное зелье Шелби\n",
      "Ингредиенты: 1/2 стакана белого сахара, 1 пакет несладкого фруктового порошка для напитков, 1 литр лимонно-лаймовой газировки, 1/2 стакана холодной воды, 1 кварта ванильного мороженого\n",
      "\n",
      "Курица с клецками в медленноварке\n",
      "Ингредиенты: 4 куриных грудки без кожи и костей, 2 столовые ложки сливочного масла, 2 банки сгущенного куриного супа, 1 луковица мелко нарезанная, 2 упаковки охлажденного теста для булочек разорванного на кусочки\n",
      "\n",
      "Грузинский закат\n",
      "Ингредиенты: 1 рюмка бренди, 1 рюмка персикового шнапса, 1 унция сиропа гренадин, 1/4 стакана охлажденной лимонно-лаймовой газировки\n",
      "\n",
      "Нью-йоркский чизкейк от Шанталь\n",
      "Ингредиенты: 15 крекеров Грэма измельченных, 2 столовые ложки сливочного масла растопленного, 4 упаковки сливочного сыра, 1 1/2 стакана белого сахара, 3/4 стакана молока, 4 яйца, 1 стакан сметаны, 1 столовая ложка ванильного экстракта, 1/4 стакана муки\n"
     ]
    }
   ],
   "source": [
    "import pandas as pd\n",
    "from sentence_transformers import SentenceTransformer\n",
    "from sentence_transformers import util\n",
    "import torch\n",
    "\n",
    "# --- Загрузка данных ---\n",
    "print(\"📁 Загрузка датасета...\")\n",
    "df = pd.read_csv(\"recipes_ru.csv\")\n",
    "\n",
    "def enhance_recipe_text(row):\n",
    "    name = row['name'] if pd.notna(row['name']) else ''\n",
    "    description = row['description'] if pd.notna(row['description']) else ''\n",
    "    ingredients = row['ingredients'] if pd.notna(row['ingredients']) else ''\n",
    "    instructions = row['instructions'] if pd.notna(row['instructions']) else ''\n",
    "\n",
    "    # Увеличиваем приоритет названия и описания\n",
    "    enhanced_text = ((name + ' ') * 3 + (description + ' ') * 2 + ingredients + ' ' + instructions).strip().lower()\n",
    "    \n",
    "    return enhanced_text\n",
    "\n",
    "# --- Создание нового поля с улучшенным текстом ---\n",
    "print(\"🧹 Обработка рецептов...\")\n",
    "df['enhanced_text'] = df.apply(enhance_recipe_text, axis=1)\n",
    "recipe_texts = df[\"enhanced_text\"].tolist()\n",
    "\n",
    "# --- Загрузка модели SBERT ---\n",
    "print(\"🧠 Загрузка модели...\")\n",
    "model = SentenceTransformer('cointegrated/rubert-tiny2')\n",
    "\n",
    "# --- Получение эмбеддингов ---\n",
    "print(\"🧬 Кодирование рецептов...\")\n",
    "recipe_embeddings = model.encode(recipe_texts, show_progress_bar=True)\n",
    "\n",
    "# --- Функция поиска ---\n",
    "def find_similar_recipes(query, top_n=5):\n",
    "    query_embedding = model.encode([query])\n",
    "    cos_scores = util.cos_sim(query_embedding, recipe_embeddings)[0]\n",
    "    top_indices = torch.topk(cos_scores, k=top_n).indices.tolist()\n",
    "    \n",
    "    results = []\n",
    "    for idx in top_indices:\n",
    "        results.append({\n",
    "            \"name\": df.iloc[idx][\"name\"],\n",
    "            \"ingredients\": df.iloc[idx][\"ingredients\"],\n",
    "            \"description\": df.iloc[idx][\"description\"],\n",
    "            \"score\": cos_scores[idx].item()\n",
    "        })\n",
    "    return results\n",
    "\n",
    "# --- Пример использования ---\n",
    "query = input(\"Введите ваш запрос: \")\n",
    "print(f\"\\n🔍 Результаты по запросу: '{query}'\")\n",
    "results = find_similar_recipes(query)\n",
    "\n",
    "for res in results:\n",
    "    # print(f\"\\n{res['name']} | Score: {res['score']:.4f}\")\n",
    "    print(f\"\\n{res['name']}\")\n",
    "    print(f\"Ингредиенты: {res['ingredients']}\")\n",
    "    # print(f\"Описание: {res['description']}\")"
   ]
  }
 ],
 "metadata": {
  "kernelspec": {
   "display_name": "Python 3",
   "language": "python",
   "name": "python3"
  },
  "language_info": {
   "codemirror_mode": {
    "name": "ipython",
    "version": 3
   },
   "file_extension": ".py",
   "mimetype": "text/x-python",
   "name": "python",
   "nbconvert_exporter": "python",
   "pygments_lexer": "ipython3",
   "version": "3.12.4"
  }
 },
 "nbformat": 4,
 "nbformat_minor": 5
}
